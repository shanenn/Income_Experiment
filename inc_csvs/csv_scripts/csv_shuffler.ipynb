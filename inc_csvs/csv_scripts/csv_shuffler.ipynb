{
 "cells": [
  {
   "cell_type": "code",
   "execution_count": 1,
   "id": "3be45586-dc34-480a-a6d5-d752547f5526",
   "metadata": {},
   "outputs": [],
   "source": [
    "'''Makes new csvs according to split and accuracy'''\n",
    "import pandas as pd\n",
    "import numpy as np"
   ]
  },
  {
   "cell_type": "code",
   "execution_count": 4,
   "id": "8aa3a42b-9f1a-40e1-baa9-77d54ec70479",
   "metadata": {},
   "outputs": [],
   "source": [
    "'''Remove duplicate rows to prevent reuse in new csvs'''\n",
    "used_df = pd.DataFrame()\n",
    "## csvs to reference for duplicate removal\n",
    "all_files = ['trial_435_7030.csv','train_100_7030.csv','select_168_7030.csv']\n",
    "for i in all_files:\n",
    "    used_df = pd.concat([used_df,(pd.read_csv('../'+i).drop(columns = ['ML Pred','ML Conf']))])\n",
    "used_df.reset_index(inplace=True,drop = True)\n",
    "full_df = pd.read_csv('../adult_reconstruction.csv')\n",
    "clean_df = pd.merge(full_df,used_df, indicator=True, how='outer').query('_merge==\"left_only\"').drop('_merge', axis=1)"
   ]
  },
  {
   "cell_type": "code",
   "execution_count": 5,
   "id": "09f8aa8e-12b6-41a4-80d5-4583f4411080",
   "metadata": {},
   "outputs": [],
   "source": [
    "# clean_df = pd.read_csv('adult_reconstruction_replaced.csv')\n",
    "# a = a.drop(columns = ['Unnamed: 0'])\n",
    "np.random.seed(42)\n",
    "\n",
    "# new = pd.DataFrame()\n",
    "# result_combo = [(0,0),(1,1),(0,1),(1,0)]\n",
    "# raw_count = [152,153,65,65]\n",
    "# for combo,cnt in zip(result_combo,raw_count):\n",
    "#     temp = clean_df[(clean_df['Income']==combo[0]) & (clean_df['ML Pred']==combo[1])].sample(frac=1).reset_index(drop=True)\n",
    "#     new = pd.concat([new,temp.iloc[:cnt]]).reset_index(drop=True)\n",
    "# new.to_csv('./trial_435_7030.csv',index=False)\n",
    "# clean_df = pd.merge(clean_df,new, indicator=True, how='outer').query('_merge==\"left_only\"').drop('_merge', axis=1)\n",
    "\n",
    "# new = pd.DataFrame()\n",
    "# result_combo = [(0,0),(1,1),(0,1),(1,0)]\n",
    "# raw_count = [59,59,25,25]\n",
    "# for combo,cnt in zip(result_combo,raw_count):\n",
    "#     temp = clean_df[(clean_df['Income']==combo[0]) & (clean_df['ML Pred']==combo[1])].sample(frac=1).reset_index(drop=True)\n",
    "#     new = pd.concat([new,temp.iloc[:cnt]]).reset_index(drop=True)\n",
    "# new.to_csv('./select_168_7030.csv',index=False)\n",
    "# clean_df = pd.merge(clean_df,new, indicator=True, how='outer').query('_merge==\"left_only\"').drop('_merge', axis=1)\n",
    "\n",
    "# new = pd.DataFrame()\n",
    "# result_combo = [(0,0),(1,1),(0,1),(1,0)]\n",
    "# raw_count = [35,35,15,15]\n",
    "# for combo,cnt in zip(result_combo,raw_count):\n",
    "#     temp = clean_df[(clean_df['Income']==combo[0]) & (clean_df['ML Pred']==combo[1])].sample(frac=1).reset_index(drop=True)\n",
    "#     new = pd.concat([new,temp.iloc[:cnt]]).reset_index(drop=True)\n",
    "# new.to_csv('../train_100_7030.csv',index=False)\n",
    "# clean_df = pd.merge(clean_df,new, indicator=True, how='outer').query('_merge==\"left_only\"').drop('_merge', axis=1)\n",
    "\n",
    "new = pd.DataFrame()\n",
    "result_combo = [(0,0),(1,1),(0,1),(1,0)]\n",
    "raw_count = [240,240,60,60]\n",
    "for combo,cnt in zip(result_combo,raw_count):\n",
    "    temp = clean_df[(clean_df['Income']==combo[0]) & (clean_df['ML Pred']==combo[1])].sample(frac=1).reset_index(drop=True)\n",
    "    new = pd.concat([new,temp.iloc[:cnt]]).reset_index(drop=True)\n",
    "new.to_csv('../Train_8020.csv',index=False)\n",
    "clean_df = pd.merge(clean_df,new, indicator=True, how='outer').query('_merge==\"left_only\"').drop('_merge', axis=1)\n",
    "\n",
    "new = pd.DataFrame()\n",
    "result_combo = [(0,0),(1,1),(0,1),(1,0)]\n",
    "raw_count = [48,48,12,12]\n",
    "for combo,cnt in zip(result_combo,raw_count):\n",
    "    temp = clean_df[(clean_df['Income']==combo[0]) & (clean_df['ML Pred']==combo[1])].sample(frac=1).reset_index(drop=True)\n",
    "    new = pd.concat([new,temp.iloc[:cnt]]).reset_index(drop=True)\n",
    "new.to_csv('../Prac1_8020.csv',index=False)\n",
    "clean_df = pd.merge(clean_df,new, indicator=True, how='outer').query('_merge==\"left_only\"').drop('_merge', axis=1)\n",
    "\n",
    "new = pd.DataFrame()\n",
    "result_combo = [(0,0),(1,1),(0,1),(1,0)]\n",
    "raw_count = [48,48,12,12]\n",
    "for combo,cnt in zip(result_combo,raw_count):\n",
    "    temp = clean_df[(clean_df['Income']==combo[0]) & (clean_df['ML Pred']==combo[1])].sample(frac=1).reset_index(drop=True)\n",
    "    new = pd.concat([new,temp.iloc[:cnt]]).reset_index(drop=True)\n",
    "new.to_csv('../Prac2_8020.csv',index=False)"
   ]
  },
  {
   "cell_type": "code",
   "execution_count": null,
   "id": "4beffefd-d727-44e2-979d-899912205499",
   "metadata": {},
   "outputs": [],
   "source": []
  }
 ],
 "metadata": {
  "kernelspec": {
   "display_name": "Python 3 (ipykernel)",
   "language": "python",
   "name": "python3"
  },
  "language_info": {
   "codemirror_mode": {
    "name": "ipython",
    "version": 3
   },
   "file_extension": ".py",
   "mimetype": "text/x-python",
   "name": "python",
   "nbconvert_exporter": "python",
   "pygments_lexer": "ipython3",
   "version": "3.9.12"
  }
 },
 "nbformat": 4,
 "nbformat_minor": 5
}
