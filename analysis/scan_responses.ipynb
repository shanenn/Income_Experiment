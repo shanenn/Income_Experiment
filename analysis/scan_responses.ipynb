{
 "cells": [
  {
   "cell_type": "code",
   "execution_count": 104,
   "id": "76b7d7dd-0c04-445c-aef6-0a4163efe12f",
   "metadata": {},
   "outputs": [],
   "source": [
    "'''EEG cleaning script\n",
    "requires neuroscan recording and subject beh files\n",
    "saves segmented and cleaned files'''\n",
    "import curryreader as cr\n",
    "import os\n",
    "from hdf5storage import loadmat, savemat\n",
    "import numpy as np\n",
    "import sys\n",
    "from scipy.stats import zscore\n",
    "import pandas as pd\n",
    "import ast\n",
    "\n",
    "def getFeats(filename):\n",
    "    blockdf = pd.read_csv(filename)\n",
    "    stimfeat = []\n",
    "    answerarray = []\n",
    "    mlans = []\n",
    "    refind = []\n",
    "    resp = []\n",
    "    for i in blockdf['Experiment Data']: ###read tuple of experiment data\n",
    "        i = ast.literal_eval(i)\n",
    "        if 'Trial' in i:\n",
    "            answerarray.append(i['Correct Answer'])\n",
    "            mlans.append(i['Model Response'])\n",
    "            for l in i['All Features']:\n",
    "                stimfeat.append(l+': '+str(i['All Features'][l]))\n",
    "            stimfeat.append('Response Cue')\n",
    "            refind.append(i['Reference Index'])\n",
    "            resp.append(i['Response'])\n",
    "    resp = np.array(resp)\n",
    "    stimfeat = np.array(stimfeat,dtype = 'object') #### array of all features + response cue in order\n",
    "    answerarray = np.array(answerarray) #### array of all features + response cue in order\n",
    "    mlans = np.array(mlans,dtype = 'int')\n",
    "    refind = np.array(refind,dtype = 'int')\n",
    "    return stimfeat, answerarray, mlans, refind ,resp\n",
    "\n",
    "def eventdata(photocell,events):\n",
    "    x = zscore(photocell)\n",
    "    temp = np.where(x > 1)[0]\n",
    "    temp2 = np.diff(temp)#temp[1:] - temp[:-1]\n",
    "    temp3 = np.where(temp2 > 1)[0]\n",
    "    stimonsets = np.zeros(len(temp3)+1)\n",
    "    stimonsets[0] = temp[0]\n",
    "    stimonsets[1:] = temp[temp3+1]\n",
    "    stimdiff = stimonsets[1:]-stimonsets[:-1]\n",
    "    trialonsets = stimonsets[range(0,len(stimonsets),10)]\n",
    "    trialoffsets = stimonsets[range(9,len(stimonsets),10)]\n",
    "    responseindex = np.where((events[:,1]==2) | (events[:,1]==32))[0]\n",
    "    eresponsetime = events[responseindex,0]\n",
    "    eresponsechoice = events[responseindex,1]\n",
    "    responsetime = np.zeros(len(trialonsets))\n",
    "    responsechoice = np.full(len(trialonsets),-1)\n",
    "    for j in range(len(trialonsets)-1):\n",
    "        theresponses = np.where((eresponsetime > trialoffsets[j]) & (eresponsetime < trialoffsets[j] + 1000) & (eresponsetime < trialonsets[j+1]))[0]\n",
    "        if any(theresponses):\n",
    "            responsetime[j] = eresponsetime[theresponses[0]]\n",
    "            responsechoice[j] = eresponsechoice[theresponses[0]]  #historically we've always takes the first.  We should discuss this, perhaps, if there is more than 1 response we should ignore the trial.\n",
    "    #    if len(theresponses) == 1:\n",
    "    #        responsetime[j] = eresponsetime[theresponses]\n",
    "    #        responsechoice[j] = eresponsechoice[theresponses]\n",
    "    theresponse  =  np.where((eresponsetime > trialoffsets[-1])& (eresponsetime < trialoffsets[-1] + 1000))[0]\n",
    "    if any(theresponse):\n",
    "        responsetime[-1] = eresponsetime[theresponse[0]]\n",
    "        responsechoice[-1] = eresponsechoice[theresponse[0]]\n",
    "    return stimonsets, trialonsets, trialoffsets, responsetime, responsechoice \n",
    "\n",
    "def segmentdata(stimonsets,trialonsets,prestim,poststim):\n",
    "\ttriallabel = np.zeros(len(stimonsets))\n",
    "\tposlabel = np.zeros(len(stimonsets))\n",
    "\tfor j in range(len(trialonsets)):\n",
    "\t\ttriallabel[j*10:(j+1)*10] = j\n",
    "\tfor j in range(len(stimonsets)):\n",
    "\t\tposlabel[j] = int(j%10)\n",
    "\ttime = np.arange(-prestim,poststim)\n",
    "\treturn triallabel,poslabel,time\n",
    "\n",
    "def getevents(fname):\n",
    "\tcurrydata = cr.read(fname, plotdata = 0, verbosity = 1)\n",
    "\tphotocells=currydata['data'][:,132:134]\n",
    "\tevents = currydata['events']\n",
    "\treturn events,photocells"
   ]
  },
  {
   "cell_type": "code",
   "execution_count": 105,
   "id": "c9c14d41-b4d8-4896-8fa1-d07f7c501fe6",
   "metadata": {},
   "outputs": [
    {
     "name": "stdout",
     "output_type": "stream",
     "text": [
      "['S2SS2B1.cdt', 'S2SS2B2.cdt', 'S2SS2B3.cdt']\n"
     ]
    }
   ],
   "source": [
    "# I suggest Fp1,Fpz, and Fp2\n",
    "prestim = 200\n",
    "poststim = 800 \n",
    "sub = '2'\n",
    "ses = '2'\n",
    "eegpath = f'data/Subject{sub}/S{sub}SS{ses}/'\n",
    "files = os.listdir(eegpath)\n",
    "filenames  = [f for f in files if f.endswith('.cdt')]\n",
    "filenames.sort()\n",
    "print(filenames)\n",
    "nfiles = len(filenames)\n",
    "behpath = f'data/Subject{sub}/{sub}Session{ses}/'\n",
    "behfile = [f for f in os.listdir(behpath) if sub in f and 'csv' in f and 'ses'+ses in f and '#' not in f and 'block2' in f][0]\n",
    "featarray, answerarray, mlresponse, refindarray,resparray = getFeats(behpath+behfile)\n",
    "\n",
    "if ses == '1':\n",
    "    trialsperfile = 65\n",
    "else:\n",
    "    trialsperfile = 80\n",
    "stimpertrial = 10\n",
    "stimperfile = trialsperfile*stimpertrial \n",
    "ntrials = nfiles*trialsperfile\n",
    "nstim = ntrials*stimpertrial \n",
    "# stimdata = np.zeros((nstim,prestim+poststim,nEEGchan))\n",
    "stimblocklabel = np.zeros(nstim)\n",
    "for j in range(nfiles):\n",
    "\tstimblocklabel[j*stimperfile:(j+1)*stimperfile] = j\n",
    "stimtriallabel = np.zeros(nstim)\n",
    "stimposlabel = np.zeros(nstim)\n",
    "stimresponsechoice = np.full(ntrials,-1)\n",
    "stimresponsetime = np.zeros(ntrials)\n",
    "# trialon = np.zeros(ntrials)\n",
    "# trialoff = np.zeros(ntrials)\n",
    "for f in range(nfiles):\n",
    "\tevents,photocells  = getevents(eegpath+filenames[f])\n",
    "\ttry: ## catch any errorneous pcells in beginning\n",
    "\t\texpstart = events[np.where(events == 800001)[0][-1]][0]\n",
    "\t\toffset = events[np.where(events == 800001)[0][-1]][0]\n",
    "\t\tevents = events[np.where(events == 800001)[0][-1]:]\n",
    "\t\tevents[:,[0,2,3]] = events[:,[0,2,3]] - offset\n",
    "\t\tphotocells = photocells[int(expstart):]\n",
    "\texcept:\n",
    "\t\tpass\n",
    "\tstimonsets, trialonsets, trialoffsets, responsetime, responsechoice = eventdata(photocells[:,0],events)\n",
    "\ttriallabel,poslabel,time = segmentdata(stimonsets,trialonsets,prestim,poststim)\n",
    "\t#organize information\n",
    "\tstimtriallabel[f*stimperfile:(f+1)*stimperfile] = triallabel+f*trialsperfile #this might not be ideal.  \n",
    "\tstimposlabel[f*stimperfile:(f+1)*stimperfile] = poslabel\n",
    "\tstimresponsechoice[f*trialsperfile:(f+1)*trialsperfile] = responsechoice \n",
    "\tstimresponsetime[f*trialsperfile:(f+1)*trialsperfile] = responsetime - trialoffsets\n",
    "\tstimresponsechoice[np.where(stimresponsechoice == 32)] = 0\n",
    "\tstimresponsechoice[np.where(stimresponsechoice == 2)] = 1\n",
    "\t# trialon[f*trialsperfile:(f+1)*trialsperfile] = trialonsets\n",
    "\t# trialoff[f*trialsperfile:(f+1)*trialsperfile] = trialoffsets\n",
    "#outputs are stimdata, stimblocklabel,stimtriallabel,stimposlabel, stimresponsechoice, stimresponsetime,time, 1,50,sr, labels,chanloc"
   ]
  },
  {
   "cell_type": "code",
   "execution_count": 109,
   "id": "598b543e-bdd4-4f93-8f2c-3a27d2683b42",
   "metadata": {},
   "outputs": [],
   "source": [
    "outpath = 'scanned/'\n",
    "outname = f'{sub}SS{ses}_scanned.hdf'\n",
    "outdict = dict()\n",
    "outdict['block'] = stimblocklabel\n",
    "outdict['trial'] = stimtriallabel\n",
    "outdict['position']  = stimposlabel\n",
    "outdict['choice'] = stimresponsechoice \n",
    "outdict['responsetime'] = stimresponsetime\n",
    "outdict['time'] = time\n",
    "outdict['answer'] = answerarray\n",
    "outdict['ordered_features'] = featarray\n",
    "outdict['model_response'] = mlresponse\n",
    "outdict['index order'] = refindarray\n",
    "savemat(outpath+outname,outdict,store_python_metadata=True)"
   ]
  },
  {
   "cell_type": "code",
   "execution_count": 107,
   "id": "905edda0-4ca6-4a54-8cd9-209a825d3abd",
   "metadata": {},
   "outputs": [
    {
     "name": "stdout",
     "output_type": "stream",
     "text": [
      "25 (1, array([-1]), 574.0)\n",
      "(24, (1, array([1]), 317.0))\n"
     ]
    }
   ],
   "source": [
    "resparray[np.where(resparray == [3])] = 1\n",
    "resparray[np.where(resparray == [2])] = 0\n",
    "for j,i in enumerate(zip(outdict['choice'],resparray,outdict['responsetime'])):\n",
    "    if i[0] != i[1]:\n",
    "        print(j,i,)\n",
    "        print(prev_resp)\n",
    "    prev_resp = (j,i)"
   ]
  },
  {
   "cell_type": "code",
   "execution_count": 108,
   "id": "fc45692b-9531-47b1-ac8d-b5fae1846de9",
   "metadata": {},
   "outputs": [
    {
     "data": {
      "text/plain": [
       "array([1, 1, 0, 1, 1, 1, 1, 1, 0, 0, 1, 0, 1, 1, 1, 1, 1, 0, 0, 1, 1, 1,\n",
       "       1, 1, 1, 1, 0, 1, 1, 0, 0, 0, 0, 1, 1, 1, 1, 1, 0, 1, 0, 1, 1, 0,\n",
       "       1, 1, 0, 1, 1, 1, 1, 1, 0, 1, 1, 1, 1, 1, 1, 0, 1, 1, 0, 1, 0, 1,\n",
       "       1, 0, 1, 1, 0, 1, 1, 1, 0, 1, 1, 1, 0, 0, 1, 0, 0, 0, 1, 1, 1, 1,\n",
       "       1, 0, 1, 0, 0, 1, 1, 0, 0, 1, 0, 1, 0, 0, 1, 1, 1, 1, 0, 0, 0, 1,\n",
       "       1, 1, 1, 1, 1, 1, 1, 1, 1, 1, 0, 1, 1, 1, 0, 1, 1, 1, 1, 0, 1, 1,\n",
       "       0, 0, 0, 0, 1, 0, 1, 1, 1, 0, 1, 1, 1, 1, 1, 1, 1, 1, 1, 1, 1, 1,\n",
       "       1, 1, 0, 0, 1, 1, 1, 1, 0, 1, 1, 1, 1, 1, 1, 1, 0, 1, 1, 1, 1, 1,\n",
       "       1, 1, 1, 0, 1, 1, 1, 1, 1, 0, 1, 0, 1, 0, 1, 1, 0, 1, 1, 1, 0, 1,\n",
       "       1, 1, 0, 1, 1, 1, 1, 1, 1, 0, 1, 1, 1, 1, 0, 1, 1, 1, 0, 1, 1, 1,\n",
       "       1, 0, 1, 1, 1, 0, 0, 1, 0, 1, 1, 1, 1, 1, 0, 1, 1, 1, 1, 1])"
      ]
     },
     "execution_count": 108,
     "metadata": {},
     "output_type": "execute_result"
    }
   ],
   "source": [
    "stimresponsechoice"
   ]
  },
  {
   "cell_type": "code",
   "execution_count": 44,
   "id": "512e55ef-56c8-4c09-8816-73bc4cb1c4c8",
   "metadata": {},
   "outputs": [],
   "source": [
    "outdict['responsetime'][np.where(outdict['responsetime'] < 0)] = np.nan"
   ]
  },
  {
   "cell_type": "code",
   "execution_count": 45,
   "id": "40c212b1-d00b-4096-8f8b-48491459670f",
   "metadata": {},
   "outputs": [
    {
     "data": {
      "text/plain": [
       "363.2291666666667"
      ]
     },
     "execution_count": 45,
     "metadata": {},
     "output_type": "execute_result"
    }
   ],
   "source": [
    "np.nanmean(outdict['responsetime'])"
   ]
  },
  {
   "cell_type": "code",
   "execution_count": 46,
   "id": "4d84c483-f3d1-4285-81aa-ac8e1f43157d",
   "metadata": {},
   "outputs": [
    {
     "data": {
      "text/plain": [
       "0.4125"
      ]
     },
     "execution_count": 46,
     "metadata": {},
     "output_type": "execute_result"
    }
   ],
   "source": [
    "stimresponsechoice.sum()/len(stimresponsechoice)"
   ]
  },
  {
   "cell_type": "code",
   "execution_count": 47,
   "id": "852d8298-5ed6-4cdf-8615-f5f72abe00c9",
   "metadata": {},
   "outputs": [
    {
     "data": {
      "text/plain": [
       "True"
      ]
     },
     "execution_count": 47,
     "metadata": {},
     "output_type": "execute_result"
    }
   ],
   "source": [
    "x = zscore(photocells[:,0])\n",
    "temp = np.where(x > 1)[0]\n",
    "(temp[1:] - temp[:-1] == np.diff(temp)).all()"
   ]
  },
  {
   "cell_type": "code",
   "execution_count": 111,
   "id": "80643265-ad7c-4960-876f-0f5c9e50e20e",
   "metadata": {},
   "outputs": [
    {
     "data": {
      "text/plain": [
       "<module 'time' (built-in)>"
      ]
     },
     "execution_count": 111,
     "metadata": {},
     "output_type": "execute_result"
    }
   ],
   "source": []
  },
  {
   "cell_type": "code",
   "execution_count": null,
   "id": "3b4b8d7c-d515-43cc-91d9-e6acdd3024e9",
   "metadata": {},
   "outputs": [],
   "source": []
  }
 ],
 "metadata": {
  "kernelspec": {
   "display_name": "Python 3 (ipykernel)",
   "language": "python",
   "name": "python3"
  },
  "language_info": {
   "codemirror_mode": {
    "name": "ipython",
    "version": 3
   },
   "file_extension": ".py",
   "mimetype": "text/x-python",
   "name": "python",
   "nbconvert_exporter": "python",
   "pygments_lexer": "ipython3",
   "version": "3.9.12"
  }
 },
 "nbformat": 4,
 "nbformat_minor": 5
}
