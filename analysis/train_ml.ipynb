{
 "cells": [
  {
   "cell_type": "code",
   "execution_count": 2,
   "id": "70bee268-f53a-4dbd-9366-a0198ff6a866",
   "metadata": {},
   "outputs": [
    {
     "name": "stdout",
     "output_type": "stream",
     "text": [
      "38\n",
      "40\n",
      "53\n",
      "53\n",
      "43\n",
      "57\n",
      "55\n",
      "58\n",
      "54\n",
      "46\n",
      "47\n",
      "56\n",
      "42\n",
      "48\n",
      "38\n",
      "48\n",
      "38\n",
      "52\n",
      "52\n",
      "54\n"
     ]
    }
   ],
   "source": [
    "import numpy as np\n",
    "\n",
    "for i in range(20):\n",
    "    print(int(np.random.uniform(30,60)))"
   ]
  },
  {
   "cell_type": "code",
   "execution_count": 56,
   "id": "893477cc-4ab6-46b4-9ab4-a34b1dfc5c3d",
   "metadata": {},
   "outputs": [],
   "source": [
    "a = np.array([1,2,3,2,1,2,2,6,7,2,3,1,2,2,3,4,5])"
   ]
  },
  {
   "cell_type": "code",
   "execution_count": 61,
   "id": "59065135-18e2-4db0-907b-fc96ece6b8f8",
   "metadata": {},
   "outputs": [
    {
     "name": "stdout",
     "output_type": "stream",
     "text": [
      "[1 2 3 2]\n",
      "[1 2 2 6 7 2 3]\n",
      "[1 2 2 3 4 5]\n"
     ]
    }
   ],
   "source": [
    "trials = []\n",
    "starts = np.where(a == 1)[0]\n",
    "for i,j in enumerate(starts[1:]):\n",
    "    print(a[starts[i]:j])\n",
    "    trials.append(a[starts[i]:j])\n",
    "print(a[j:])\n",
    "trials.append(a[j:])"
   ]
  },
  {
   "cell_type": "code",
   "execution_count": 69,
   "id": "27f4b182-2770-49a6-ae95-3895ddfef350",
   "metadata": {},
   "outputs": [
    {
     "name": "stdout",
     "output_type": "stream",
     "text": [
      "Trial 2 is a longer trial\n"
     ]
    }
   ],
   "source": [
    "for i,j in enumerate(trials):\n",
    "    if np.count_nonzero(j == 2) > 2:\n",
    "        print('Trial',i+1,'is a longer trial')"
   ]
  },
  {
   "cell_type": "code",
   "execution_count": null,
   "id": "183a8237-9333-4f72-a15a-68099ce29d15",
   "metadata": {},
   "outputs": [],
   "source": []
  }
 ],
 "metadata": {
  "kernelspec": {
   "display_name": "Python 3 (ipykernel)",
   "language": "python",
   "name": "python3"
  },
  "language_info": {
   "codemirror_mode": {
    "name": "ipython",
    "version": 3
   },
   "file_extension": ".py",
   "mimetype": "text/x-python",
   "name": "python",
   "nbconvert_exporter": "python",
   "pygments_lexer": "ipython3",
   "version": "3.9.12"
  }
 },
 "nbformat": 4,
 "nbformat_minor": 5
}
